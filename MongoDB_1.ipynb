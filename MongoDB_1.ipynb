{
 "cells": [
  {
   "cell_type": "code",
   "execution_count": 1,
   "metadata": {},
   "outputs": [],
   "source": [
    "import pymongo   "
   ]
  },
  {
   "cell_type": "code",
   "execution_count": 3,
   "metadata": {},
   "outputs": [],
   "source": [
    "client=pymongo.MongoClient('mongodb://127.0.0.1:27017/')  # client will interact with database "
   ]
  },
  {
   "cell_type": "code",
   "execution_count": 4,
   "metadata": {},
   "outputs": [],
   "source": [
    "database=client['Employee']  # database name \n",
    "empinfo=database.employee_information  # collection name \n",
    "\n"
   ]
  },
  {
   "cell_type": "code",
   "execution_count": 5,
   "metadata": {},
   "outputs": [
    {
     "data": {
      "text/plain": [
       "<pymongo.results.InsertOneResult at 0x7fdbce7bf140>"
      ]
     },
     "execution_count": 5,
     "metadata": {},
     "output_type": "execute_result"
    }
   ],
   "source": [
    "record={\n",
    "    'name':'Ganesh Raj',\n",
    "    'age':21,\n",
    "    'gender':'M'\n",
    "}\n",
    "\n",
    "\n",
    "empinfo.insert_one(record) # to insert one record to collection"
   ]
  },
  {
   "cell_type": "code",
   "execution_count": 7,
   "metadata": {},
   "outputs": [
    {
     "data": {
      "text/plain": [
       "<pymongo.results.InsertManyResult at 0x7fdbbc1c8f80>"
      ]
     },
     "execution_count": 7,
     "metadata": {},
     "output_type": "execute_result"
    }
   ],
   "source": [
    "records=[\n",
    "    {\n",
    "        'f_name':'Valayapathy',\n",
    "        'l_name':'V',\n",
    "        'age':55\n",
    "    },\n",
    "    {\n",
    "        'f_name':'Rajeswarie',\n",
    "        'l_name':'V',\n",
    "        'age':45\n",
    "    },\n",
    "    {\n",
    "        'f_name':'Harish',\n",
    "        'l_name':'V',\n",
    "        'age':19\n",
    "    },\n",
    "    {\n",
    "        'f_name':'Ganesh Raj',\n",
    "        'l_name':'V',\n",
    "        'age':21\n",
    "    }\n",
    "    \n",
    "]\n",
    "\n",
    "\n",
    "empinfo.insert_many(records)    # to insert many records \n"
   ]
  },
  {
   "cell_type": "code",
   "execution_count": 8,
   "metadata": {},
   "outputs": [
    {
     "data": {
      "text/plain": [
       "{'_id': ObjectId('5fb32c48b2b3bf357584e123'),\n",
       " 'name': 'Ganesh Raj',\n",
       " 'age': 21,\n",
       " 'gender': 'M'}"
      ]
     },
     "execution_count": 8,
     "metadata": {},
     "output_type": "execute_result"
    }
   ],
   "source": [
    "# queries \n",
    "\n",
    "# to ge the first doc in collection \n",
    "\n",
    "empinfo.find_one()"
   ]
  },
  {
   "cell_type": "code",
   "execution_count": 10,
   "metadata": {},
   "outputs": [
    {
     "data": {
      "text/plain": [
       "<pymongo.cursor.Cursor at 0x7fdbbc1cbca0>"
      ]
     },
     "execution_count": 10,
     "metadata": {},
     "output_type": "execute_result"
    }
   ],
   "source": [
    "# to get all the records      ----  select * from table_name\n",
    "\n",
    "empinfo.find()  # type of curser "
   ]
  },
  {
   "cell_type": "code",
   "execution_count": 12,
   "metadata": {},
   "outputs": [
    {
     "name": "stdout",
     "output_type": "stream",
     "text": [
      "{'_id': ObjectId('5fb32c48b2b3bf357584e123'), 'name': 'Ganesh Raj', 'age': 21, 'gender': 'M'}\n",
      "\n",
      "{'_id': ObjectId('5fb32cffb2b3bf357584e124'), 'f_name': 'Valayapathy', 'l_name': 'V', 'age': 55}\n",
      "\n",
      "{'_id': ObjectId('5fb32cffb2b3bf357584e125'), 'f_name': 'Rajeswarie', 'l_name': 'V', 'age': 45}\n",
      "\n",
      "{'_id': ObjectId('5fb32cffb2b3bf357584e126'), 'f_name': 'Harish', 'l_name': 'V', 'age': 19}\n",
      "\n",
      "{'_id': ObjectId('5fb32cffb2b3bf357584e127'), 'f_name': 'Ganesh Raj', 'l_name': 'V', 'age': 21}\n",
      "\n"
     ]
    }
   ],
   "source": [
    "for rec in empinfo.find():\n",
    "    print(rec)\n",
    "    print()"
   ]
  },
  {
   "cell_type": "code",
   "execution_count": 13,
   "metadata": {},
   "outputs": [
    {
     "name": "stdout",
     "output_type": "stream",
     "text": [
      "{'_id': ObjectId('5fb32cffb2b3bf357584e127'), 'f_name': 'Ganesh Raj', 'l_name': 'V', 'age': 21}\n"
     ]
    }
   ],
   "source": [
    "# to write a query we have to use {} \n",
    "\n",
    "for rec in empinfo.find({'f_name':'Ganesh Raj'}):\n",
    "    print(rec)"
   ]
  },
  {
   "cell_type": "code",
   "execution_count": 17,
   "metadata": {},
   "outputs": [
    {
     "name": "stdout",
     "output_type": "stream",
     "text": [
      "{'_id': ObjectId('5fb32c48b2b3bf357584e123'), 'name': 'Ganesh Raj', 'age': 21, 'gender': 'M'}\n",
      "{'_id': ObjectId('5fb32cffb2b3bf357584e125'), 'f_name': 'Rajeswarie', 'l_name': 'V', 'age': 45}\n",
      "{'_id': ObjectId('5fb32cffb2b3bf357584e126'), 'f_name': 'Harish', 'l_name': 'V', 'age': 19}\n",
      "{'_id': ObjectId('5fb32cffb2b3bf357584e127'), 'f_name': 'Ganesh Raj', 'l_name': 'V', 'age': 21}\n"
     ]
    }
   ],
   "source": [
    "# $in -- ( fetch ages in 19,21,.....)   \n",
    "# simply same as for i in list\n",
    "\n",
    "\n",
    "for rec in empinfo.find({'age':{'$in':[19,21,45]}}):    \n",
    "    print(rec)"
   ]
  },
  {
   "cell_type": "code",
   "execution_count": 18,
   "metadata": {},
   "outputs": [
    {
     "name": "stdout",
     "output_type": "stream",
     "text": [
      "{'_id': ObjectId('5fb32c48b2b3bf357584e123'), 'name': 'Ganesh Raj', 'age': 21, 'gender': 'M'}\n",
      "{'_id': ObjectId('5fb32cffb2b3bf357584e125'), 'f_name': 'Rajeswarie', 'l_name': 'V', 'age': 45}\n",
      "{'_id': ObjectId('5fb32cffb2b3bf357584e126'), 'f_name': 'Harish', 'l_name': 'V', 'age': 19}\n",
      "{'_id': ObjectId('5fb32cffb2b3bf357584e127'), 'f_name': 'Ganesh Raj', 'l_name': 'V', 'age': 21}\n"
     ]
    }
   ],
   "source": [
    "# less than --- $lt\n",
    "\n",
    "for rec in empinfo.find({'age':{'$lt':46}}):  # this fetches all rec where age less than 46\n",
    "    print(rec)"
   ]
  },
  {
   "cell_type": "code",
   "execution_count": 22,
   "metadata": {},
   "outputs": [
    {
     "name": "stdout",
     "output_type": "stream",
     "text": [
      "{'_id': ObjectId('5fb32cffb2b3bf357584e125'), 'f_name': 'Rajeswarie', 'l_name': 'V', 'age': 45}\n",
      "{'_id': ObjectId('5fb32cffb2b3bf357584e126'), 'f_name': 'Harish', 'l_name': 'V', 'age': 19}\n",
      "{'_id': ObjectId('5fb32cffb2b3bf357584e127'), 'f_name': 'Ganesh Raj', 'l_name': 'V', 'age': 21}\n"
     ]
    }
   ],
   "source": [
    "# $lt with and operation (,)\n",
    "\n",
    "for rec in empinfo.find({'l_name':'V','age':{'$lt':46}}):\n",
    "    print(rec)"
   ]
  },
  {
   "cell_type": "code",
   "execution_count": 33,
   "metadata": {},
   "outputs": [
    {
     "name": "stdout",
     "output_type": "stream",
     "text": [
      "{'_id': ObjectId('5fb32cffb2b3bf357584e125'), 'f_name': 'Rajeswarie', 'l_name': 'V', 'age': 45}\n",
      "{'_id': ObjectId('5fb32cffb2b3bf357584e126'), 'f_name': 'Harish', 'l_name': 'V', 'age': 19}\n",
      "{'_id': ObjectId('5fb32cffb2b3bf357584e127'), 'f_name': 'Ganesh Raj', 'l_name': 'V', 'age': 21}\n"
     ]
    }
   ],
   "source": [
    "# same as above \n",
    "\n",
    "for rec in empinfo.find({'$and':[{'l_name':'V'},{'age':{'$lt':46}}]}):\n",
    "    print(rec)"
   ]
  },
  {
   "cell_type": "code",
   "execution_count": 23,
   "metadata": {},
   "outputs": [
    {
     "name": "stdout",
     "output_type": "stream",
     "text": [
      "{'_id': ObjectId('5fb32cffb2b3bf357584e125'), 'f_name': 'Rajeswarie', 'l_name': 'V', 'age': 45}\n",
      "{'_id': ObjectId('5fb32cffb2b3bf357584e127'), 'f_name': 'Ganesh Raj', 'l_name': 'V', 'age': 21}\n"
     ]
    }
   ],
   "source": [
    "# using or operation \n",
    "\n",
    "\n",
    "for rec in empinfo.find({'$or':[{'f_name':'Ganesh Raj'},{'age':45}]}):\n",
    "    print(rec)"
   ]
  },
  {
   "cell_type": "code",
   "execution_count": 25,
   "metadata": {},
   "outputs": [
    {
     "name": "stdout",
     "output_type": "stream",
     "text": [
      "{'_id': ObjectId('5fb32c48b2b3bf357584e123'), 'name': 'Ganesh Raj', 'age': 21, 'gender': 'M'}\n",
      "{'_id': ObjectId('5fb32cffb2b3bf357584e124'), 'f_name': 'Valayapathy', 'l_name': 'V', 'age': 55}\n",
      "{'_id': ObjectId('5fb32cffb2b3bf357584e125'), 'f_name': 'Rajeswarie', 'l_name': 'V', 'age': 45}\n",
      "{'_id': ObjectId('5fb32cffb2b3bf357584e126'), 'f_name': 'Harish', 'l_name': 'V', 'age': 19}\n",
      "{'_id': ObjectId('5fb32cffb2b3bf357584e127'), 'f_name': 'Ganesh Raj', 'l_name': 'V', 'age': 21}\n"
     ]
    }
   ],
   "source": [
    "# fetching all records using or and less than \n",
    "\n",
    "\n",
    "# instead of $or we can also use $and\n",
    "\n",
    "for rec in empinfo.find({'$or':[{'f_name':'Ganesh Raj'},{'age':{'$lt':60}}]}):\n",
    "    print(rec)"
   ]
  },
  {
   "cell_type": "code",
   "execution_count": 26,
   "metadata": {},
   "outputs": [
    {
     "name": "stdout",
     "output_type": "stream",
     "text": [
      "{'_id': ObjectId('5fb32cffb2b3bf357584e127'), 'f_name': 'Ganesh Raj', 'l_name': 'V', 'age': 21}\n"
     ]
    }
   ],
   "source": [
    "for rec in empinfo.find({'$and':[{'f_name':'Ganesh Raj'},{'age':{'$lt':60}}]}):\n",
    "    print(rec)"
   ]
  },
  {
   "cell_type": "code",
   "execution_count": null,
   "metadata": {},
   "outputs": [],
   "source": []
  },
  {
   "cell_type": "code",
   "execution_count": 27,
   "metadata": {},
   "outputs": [],
   "source": [
    "# CEATING NEW COLLECTIONS FROM SAME DATABASE \n",
    "\n",
    "store=database.stores # collection name \n",
    "\n",
    "\n",
    "\n"
   ]
  },
  {
   "cell_type": "code",
   "execution_count": 28,
   "metadata": {},
   "outputs": [],
   "source": [
    "# creating nested recordssss\n",
    "\n",
    "store.insert_many( [\n",
    "   { 'item': \"journal\", 'qty': 25, 'size': { 'h': 14, 'w': 21,'uom': \"cm\" }, 'status': \"A\" },\n",
    "   { 'item': \"notebook\", 'qty': 50,'size': { 'h': 8.5, 'w': 11,'uom': \"in\" },'status': \"A\" },\n",
    "   { 'item': \"paper\", 'qty': 100, 'size': { 'h': 8.5, 'w': 11,'uom': \"in\" },'status': \"D\" },\n",
    "   { 'item': \"planner\", 'qty': 75, 'size': { 'h': 22.85,'w': 30,'uom': \"cm\" },'status': \"D\" },\n",
    "   { 'item': \"postcard\", 'qty': 45, 'size': { 'h': 10, 'w': 15.25,'uom': \"cm\" },'status': \"A\" }\n",
    "]);"
   ]
  },
  {
   "cell_type": "code",
   "execution_count": 30,
   "metadata": {},
   "outputs": [
    {
     "name": "stdout",
     "output_type": "stream",
     "text": [
      "{'_id': ObjectId('5fb33665b2b3bf357584e128'), 'item': 'journal', 'qty': 25, 'size': {'h': 14, 'w': 21, 'uom': 'cm'}, 'status': 'A'}\n"
     ]
    }
   ],
   "source": [
    "# fetching the value of records with size -----\n",
    "\n",
    "\n",
    "for records in store.find({'size': { 'h': 14, 'w': 21,'uom': \"cm\" }}):\n",
    "    print(records)"
   ]
  },
  {
   "cell_type": "code",
   "execution_count": 32,
   "metadata": {},
   "outputs": [],
   "source": [
    "for records in store.find({'size': {'w': 21,'uom': \"cm\" }}):\n",
    "    print(records)"
   ]
  },
  {
   "cell_type": "code",
   "execution_count": null,
   "metadata": {},
   "outputs": [],
   "source": []
  },
  {
   "cell_type": "code",
   "execution_count": null,
   "metadata": {},
   "outputs": [],
   "source": [
    "# Update \n",
    "\n",
    "\"\"\"\n",
    "pymongo.collection.Collection.update_one()\n",
    "pymongo.collection.Collection.update_many()\n",
    "pymongo.collection.Collection.replace_one()\n",
    "\n",
    "\"\"\"\n"
   ]
  },
  {
   "cell_type": "code",
   "execution_count": 34,
   "metadata": {},
   "outputs": [
    {
     "name": "stdout",
     "output_type": "stream",
     "text": [
      "{'_id': ObjectId('5fb33665b2b3bf357584e128'), 'item': 'journal', 'qty': 25, 'size': {'h': 14, 'w': 21, 'uom': 'cm'}, 'status': 'A'}\n",
      "\n",
      "{'_id': ObjectId('5fb33665b2b3bf357584e129'), 'item': 'notebook', 'qty': 50, 'size': {'h': 8.5, 'w': 11, 'uom': 'in'}, 'status': 'A'}\n",
      "\n",
      "{'_id': ObjectId('5fb33665b2b3bf357584e12a'), 'item': 'paper', 'qty': 100, 'size': {'h': 8.5, 'w': 11, 'uom': 'in'}, 'status': 'D'}\n",
      "\n",
      "{'_id': ObjectId('5fb33665b2b3bf357584e12b'), 'item': 'planner', 'qty': 75, 'size': {'h': 22.85, 'w': 30, 'uom': 'cm'}, 'status': 'D'}\n",
      "\n",
      "{'_id': ObjectId('5fb33665b2b3bf357584e12c'), 'item': 'postcard', 'qty': 45, 'size': {'h': 10, 'w': 15.25, 'uom': 'cm'}, 'status': 'A'}\n",
      "\n"
     ]
    }
   ],
   "source": [
    "for rec in store.find():\n",
    "    print(rec)\n",
    "    print()"
   ]
  },
  {
   "cell_type": "code",
   "execution_count": 35,
   "metadata": {},
   "outputs": [
    {
     "data": {
      "text/plain": [
       "<pymongo.results.InsertManyResult at 0x7fdbbc1c8d40>"
      ]
     },
     "execution_count": 35,
     "metadata": {},
     "output_type": "execute_result"
    }
   ],
   "source": [
    "store_1 = database.store_1\n",
    "\n",
    "store_1.insert_many([\n",
    "    {\"item\": \"canvas\",\n",
    "     \"qty\": 100,\n",
    "     \"size\": {\"h\": 28, \"w\": 35.5, \"uom\": \"cm\"},\n",
    "     \"status\": \"A\"},\n",
    "    {\"item\": \"journal\",\n",
    "     \"qty\": 25,\n",
    "     \"size\": {\"h\": 14, \"w\": 21, \"uom\": \"cm\"},\n",
    "     \"status\": \"A\"},\n",
    "    {\"item\": \"mat\",\n",
    "     \"qty\": 85,\n",
    "     \"size\": {\"h\": 27.9, \"w\": 35.5, \"uom\": \"cm\"},\n",
    "     \"status\": \"A\"},\n",
    "    {\"item\": \"mousepad\",\n",
    "     \"qty\": 25,\n",
    "     \"size\": {\"h\": 19, \"w\": 22.85, \"uom\": \"cm\"},\n",
    "     \"status\": \"P\"},\n",
    "    {\"item\": \"notebook\",\n",
    "     \"qty\": 50,\n",
    "     \"size\": {\"h\": 8.5, \"w\": 11, \"uom\": \"in\"},\n",
    "     \"status\": \"P\"},\n",
    "    {\"item\": \"paper\",\n",
    "     \"qty\": 100,\n",
    "     \"size\": {\"h\": 8.5, \"w\": 11, \"uom\": \"in\"},\n",
    "     \"status\": \"D\"},\n",
    "    {\"item\": \"planner\",\n",
    "     \"qty\": 75,\n",
    "     \"size\": {\"h\": 22.85, \"w\": 30, \"uom\": \"cm\"},\n",
    "     \"status\": \"D\"},\n",
    "    {\"item\": \"postcard\",\n",
    "     \"qty\": 45,\n",
    "     \"size\": {\"h\": 10, \"w\": 15.25, \"uom\": \"cm\"},\n",
    "     \"status\": \"A\"},\n",
    "    {\"item\": \"sketchbook\",\n",
    "     \"qty\": 80,\n",
    "     \"size\": {\"h\": 14, \"w\": 21, \"uom\": \"cm\"},\n",
    "     \"status\": \"A\"},\n",
    "    {\"item\": \"sketch pad\",\n",
    "     \"qty\": 95,\n",
    "     \"size\": {\"h\": 22.85, \"w\": 30.5, \"uom\": \"cm\"},\n",
    "     \"status\": \"A\"}])"
   ]
  },
  {
   "cell_type": "code",
   "execution_count": 36,
   "metadata": {},
   "outputs": [
    {
     "data": {
      "text/plain": [
       "<pymongo.results.UpdateResult at 0x7fdbbc1ab040>"
      ]
     },
     "execution_count": 36,
     "metadata": {},
     "output_type": "execute_result"
    }
   ],
   "source": [
    "store_1.update_one({'item':'sketch pad'},{'$set':{'qty':200,'size.h':100,'status':'Done'}})"
   ]
  },
  {
   "cell_type": "code",
   "execution_count": 37,
   "metadata": {},
   "outputs": [
    {
     "name": "stdout",
     "output_type": "stream",
     "text": [
      "{'_id': ObjectId('5fb3490db2b3bf357584e12d'), 'item': 'canvas', 'qty': 100, 'size': {'h': 28, 'w': 35.5, 'uom': 'cm'}, 'status': 'A'}\n",
      "\n",
      "{'_id': ObjectId('5fb3490db2b3bf357584e12e'), 'item': 'journal', 'qty': 25, 'size': {'h': 14, 'w': 21, 'uom': 'cm'}, 'status': 'A'}\n",
      "\n",
      "{'_id': ObjectId('5fb3490db2b3bf357584e12f'), 'item': 'mat', 'qty': 85, 'size': {'h': 27.9, 'w': 35.5, 'uom': 'cm'}, 'status': 'A'}\n",
      "\n",
      "{'_id': ObjectId('5fb3490db2b3bf357584e130'), 'item': 'mousepad', 'qty': 25, 'size': {'h': 19, 'w': 22.85, 'uom': 'cm'}, 'status': 'P'}\n",
      "\n",
      "{'_id': ObjectId('5fb3490db2b3bf357584e131'), 'item': 'notebook', 'qty': 50, 'size': {'h': 8.5, 'w': 11, 'uom': 'in'}, 'status': 'P'}\n",
      "\n",
      "{'_id': ObjectId('5fb3490db2b3bf357584e132'), 'item': 'paper', 'qty': 100, 'size': {'h': 8.5, 'w': 11, 'uom': 'in'}, 'status': 'D'}\n",
      "\n",
      "{'_id': ObjectId('5fb3490db2b3bf357584e133'), 'item': 'planner', 'qty': 75, 'size': {'h': 22.85, 'w': 30, 'uom': 'cm'}, 'status': 'D'}\n",
      "\n",
      "{'_id': ObjectId('5fb3490db2b3bf357584e134'), 'item': 'postcard', 'qty': 45, 'size': {'h': 10, 'w': 15.25, 'uom': 'cm'}, 'status': 'A'}\n",
      "\n",
      "{'_id': ObjectId('5fb3490db2b3bf357584e135'), 'item': 'sketchbook', 'qty': 80, 'size': {'h': 14, 'w': 21, 'uom': 'cm'}, 'status': 'A'}\n",
      "\n",
      "{'_id': ObjectId('5fb3490db2b3bf357584e136'), 'item': 'sketch pad', 'qty': 200, 'size': {'h': 100, 'w': 30.5, 'uom': 'cm'}, 'status': 'Done'}\n",
      "\n"
     ]
    }
   ],
   "source": [
    "for i in store_1.find():\n",
    "    print(i)\n",
    "    print()"
   ]
  },
  {
   "cell_type": "code",
   "execution_count": 38,
   "metadata": {},
   "outputs": [
    {
     "data": {
      "text/plain": [
       "<pymongo.results.UpdateResult at 0x7fdbbc1b1240>"
      ]
     },
     "execution_count": 38,
     "metadata": {},
     "output_type": "execute_result"
    }
   ],
   "source": [
    "# update many \n",
    "\n",
    "store_1.update_many({'qty':{'$lt':200}},{'$set':{'size.w':0,'status':'Not_Done'}})\n",
    "\n"
   ]
  },
  {
   "cell_type": "code",
   "execution_count": 39,
   "metadata": {},
   "outputs": [
    {
     "name": "stdout",
     "output_type": "stream",
     "text": [
      "{'_id': ObjectId('5fb3490db2b3bf357584e12d'), 'item': 'canvas', 'qty': 100, 'size': {'h': 28, 'w': 0, 'uom': 'cm'}, 'status': 'Not_Done'}\n",
      "{'_id': ObjectId('5fb3490db2b3bf357584e12e'), 'item': 'journal', 'qty': 25, 'size': {'h': 14, 'w': 0, 'uom': 'cm'}, 'status': 'Not_Done'}\n",
      "{'_id': ObjectId('5fb3490db2b3bf357584e12f'), 'item': 'mat', 'qty': 85, 'size': {'h': 27.9, 'w': 0, 'uom': 'cm'}, 'status': 'Not_Done'}\n",
      "{'_id': ObjectId('5fb3490db2b3bf357584e130'), 'item': 'mousepad', 'qty': 25, 'size': {'h': 19, 'w': 0, 'uom': 'cm'}, 'status': 'Not_Done'}\n",
      "{'_id': ObjectId('5fb3490db2b3bf357584e131'), 'item': 'notebook', 'qty': 50, 'size': {'h': 8.5, 'w': 0, 'uom': 'in'}, 'status': 'Not_Done'}\n",
      "{'_id': ObjectId('5fb3490db2b3bf357584e132'), 'item': 'paper', 'qty': 100, 'size': {'h': 8.5, 'w': 0, 'uom': 'in'}, 'status': 'Not_Done'}\n",
      "{'_id': ObjectId('5fb3490db2b3bf357584e133'), 'item': 'planner', 'qty': 75, 'size': {'h': 22.85, 'w': 0, 'uom': 'cm'}, 'status': 'Not_Done'}\n",
      "{'_id': ObjectId('5fb3490db2b3bf357584e134'), 'item': 'postcard', 'qty': 45, 'size': {'h': 10, 'w': 0, 'uom': 'cm'}, 'status': 'Not_Done'}\n",
      "{'_id': ObjectId('5fb3490db2b3bf357584e135'), 'item': 'sketchbook', 'qty': 80, 'size': {'h': 14, 'w': 0, 'uom': 'cm'}, 'status': 'Not_Done'}\n",
      "{'_id': ObjectId('5fb3490db2b3bf357584e136'), 'item': 'sketch pad', 'qty': 200, 'size': {'h': 100, 'w': 30.5, 'uom': 'cm'}, 'status': 'Done'}\n"
     ]
    }
   ],
   "source": [
    "for i in store_1.find():\n",
    "    print(i)"
   ]
  },
  {
   "cell_type": "code",
   "execution_count": 40,
   "metadata": {},
   "outputs": [
    {
     "data": {
      "text/plain": [
       "<pymongo.results.UpdateResult at 0x7fdbbc1babc0>"
      ]
     },
     "execution_count": 40,
     "metadata": {},
     "output_type": "execute_result"
    }
   ],
   "source": [
    "# replace_one()\n",
    "\n",
    "store_1.replace_one({'item':'sketchbook'},{'item':'Wood','material':'bamboo'})\n"
   ]
  },
  {
   "cell_type": "code",
   "execution_count": 41,
   "metadata": {},
   "outputs": [
    {
     "name": "stdout",
     "output_type": "stream",
     "text": [
      "{'_id': ObjectId('5fb3490db2b3bf357584e12d'), 'item': 'canvas', 'qty': 100, 'size': {'h': 28, 'w': 0, 'uom': 'cm'}, 'status': 'Not_Done'}\n",
      "{'_id': ObjectId('5fb3490db2b3bf357584e12e'), 'item': 'journal', 'qty': 25, 'size': {'h': 14, 'w': 0, 'uom': 'cm'}, 'status': 'Not_Done'}\n",
      "{'_id': ObjectId('5fb3490db2b3bf357584e12f'), 'item': 'mat', 'qty': 85, 'size': {'h': 27.9, 'w': 0, 'uom': 'cm'}, 'status': 'Not_Done'}\n",
      "{'_id': ObjectId('5fb3490db2b3bf357584e130'), 'item': 'mousepad', 'qty': 25, 'size': {'h': 19, 'w': 0, 'uom': 'cm'}, 'status': 'Not_Done'}\n",
      "{'_id': ObjectId('5fb3490db2b3bf357584e131'), 'item': 'notebook', 'qty': 50, 'size': {'h': 8.5, 'w': 0, 'uom': 'in'}, 'status': 'Not_Done'}\n",
      "{'_id': ObjectId('5fb3490db2b3bf357584e132'), 'item': 'paper', 'qty': 100, 'size': {'h': 8.5, 'w': 0, 'uom': 'in'}, 'status': 'Not_Done'}\n",
      "{'_id': ObjectId('5fb3490db2b3bf357584e133'), 'item': 'planner', 'qty': 75, 'size': {'h': 22.85, 'w': 0, 'uom': 'cm'}, 'status': 'Not_Done'}\n",
      "{'_id': ObjectId('5fb3490db2b3bf357584e134'), 'item': 'postcard', 'qty': 45, 'size': {'h': 10, 'w': 0, 'uom': 'cm'}, 'status': 'Not_Done'}\n",
      "{'_id': ObjectId('5fb3490db2b3bf357584e135'), 'item': 'Wood', 'material': 'bamboo'}\n",
      "{'_id': ObjectId('5fb3490db2b3bf357584e136'), 'item': 'sketch pad', 'qty': 200, 'size': {'h': 100, 'w': 30.5, 'uom': 'cm'}, 'status': 'Done'}\n"
     ]
    }
   ],
   "source": [
    "for i in store_1.find():\n",
    "    print(i)\n"
   ]
  },
  {
   "cell_type": "code",
   "execution_count": null,
   "metadata": {},
   "outputs": [],
   "source": []
  }
 ],
 "metadata": {
  "kernelspec": {
   "display_name": "Python 3",
   "language": "python",
   "name": "python3"
  },
  "language_info": {
   "codemirror_mode": {
    "name": "ipython",
    "version": 3
   },
   "file_extension": ".py",
   "mimetype": "text/x-python",
   "name": "python",
   "nbconvert_exporter": "python",
   "pygments_lexer": "ipython3",
   "version": "3.8.3"
  }
 },
 "nbformat": 4,
 "nbformat_minor": 4
}
